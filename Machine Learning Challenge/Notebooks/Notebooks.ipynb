{
 "cells": [
  {
   "cell_type": "code",
   "execution_count": 434,
   "id": "78cb3cfa",
   "metadata": {},
   "outputs": [],
   "source": [
    "import numpy as np\n",
    "import pandas as pd\n",
    "from pandas.api.types import is_numeric_dtype\n",
    "import sweetviz as sv\n",
    "import autoviz as av\n",
    "from scipy import stats\n",
    "from sklearn.ensemble import RandomForestClassifier\n",
    "from sklearn.model_selection import cross_val_score\n",
    "from sklearn.metrics import balanced_accuracy_score\n",
    "from sklearn.metrics import recall_score\n",
    "pd.set_option('display.max_rows', 100)"
   ]
  },
  {
   "cell_type": "code",
   "execution_count": 2,
   "id": "3cbbae58-78da-447a-ada0-9e47e90a9496",
   "metadata": {},
   "outputs": [
    {
     "data": {
      "text/plain": [
       "'%matplotlib inline'"
      ]
     },
     "execution_count": 2,
     "metadata": {},
     "output_type": "execute_result"
    }
   ],
   "source": [
    "'%matplotlib inline'"
   ]
  },
  {
   "cell_type": "code",
   "execution_count": 297,
   "id": "801e3370",
   "metadata": {},
   "outputs": [
    {
     "data": {
      "text/html": [
       "<div>\n",
       "<style scoped>\n",
       "    .dataframe tbody tr th:only-of-type {\n",
       "        vertical-align: middle;\n",
       "    }\n",
       "\n",
       "    .dataframe tbody tr th {\n",
       "        vertical-align: top;\n",
       "    }\n",
       "\n",
       "    .dataframe thead th {\n",
       "        text-align: right;\n",
       "    }\n",
       "</style>\n",
       "<table border=\"1\" class=\"dataframe\">\n",
       "  <thead>\n",
       "    <tr style=\"text-align: right;\">\n",
       "      <th></th>\n",
       "      <th>ClientIdentifier</th>\n",
       "      <th>Behaviour_Date_Key</th>\n",
       "      <th>BehaviourType</th>\n",
       "      <th>TAB1</th>\n",
       "      <th>TAB5</th>\n",
       "      <th>TAB7</th>\n",
       "      <th>TAB8</th>\n",
       "      <th>TAB9</th>\n",
       "      <th>TAB10</th>\n",
       "      <th>Total_Num_Inflow_L3M</th>\n",
       "      <th>...</th>\n",
       "      <th>Num_Elec</th>\n",
       "      <th>Amt_Elec</th>\n",
       "      <th>Num_Airtime</th>\n",
       "      <th>Amt_Airtime</th>\n",
       "      <th>CW1</th>\n",
       "      <th>CS1</th>\n",
       "      <th>CS2</th>\n",
       "      <th>CS3</th>\n",
       "      <th>CS4</th>\n",
       "      <th>InsufFunds</th>\n",
       "    </tr>\n",
       "  </thead>\n",
       "  <tbody>\n",
       "    <tr>\n",
       "      <th>1</th>\n",
       "      <td>320818</td>\n",
       "      <td>11518</td>\n",
       "      <td>CreditCardTake-up</td>\n",
       "      <td>0.0</td>\n",
       "      <td>0.0</td>\n",
       "      <td>12.0</td>\n",
       "      <td>9.0</td>\n",
       "      <td>8.0</td>\n",
       "      <td>0.0</td>\n",
       "      <td>10.0</td>\n",
       "      <td>...</td>\n",
       "      <td>0.0</td>\n",
       "      <td>0.0</td>\n",
       "      <td>0.0</td>\n",
       "      <td>0.0</td>\n",
       "      <td>0.000</td>\n",
       "      <td>0.0</td>\n",
       "      <td>0.0</td>\n",
       "      <td>0.0</td>\n",
       "      <td>0.0000</td>\n",
       "      <td>0.0</td>\n",
       "    </tr>\n",
       "    <tr>\n",
       "      <th>2</th>\n",
       "      <td>302372</td>\n",
       "      <td>11518</td>\n",
       "      <td>CreditCardTake-up</td>\n",
       "      <td>0.0</td>\n",
       "      <td>0.0</td>\n",
       "      <td>2.0</td>\n",
       "      <td>2.0</td>\n",
       "      <td>2.0</td>\n",
       "      <td>0.0</td>\n",
       "      <td>16.0</td>\n",
       "      <td>...</td>\n",
       "      <td>0.0</td>\n",
       "      <td>0.0</td>\n",
       "      <td>0.0</td>\n",
       "      <td>0.0</td>\n",
       "      <td>-99.000</td>\n",
       "      <td>3.0</td>\n",
       "      <td>3.0</td>\n",
       "      <td>3.0</td>\n",
       "      <td>0.8275</td>\n",
       "      <td>0.0</td>\n",
       "    </tr>\n",
       "    <tr>\n",
       "      <th>3</th>\n",
       "      <td>1027545</td>\n",
       "      <td>11518</td>\n",
       "      <td>CreditCardTake-up</td>\n",
       "      <td>0.0</td>\n",
       "      <td>0.0</td>\n",
       "      <td>3.0</td>\n",
       "      <td>2.0</td>\n",
       "      <td>1.0</td>\n",
       "      <td>0.0</td>\n",
       "      <td>20.0</td>\n",
       "      <td>...</td>\n",
       "      <td>0.0</td>\n",
       "      <td>0.0</td>\n",
       "      <td>1.0</td>\n",
       "      <td>-50.0</td>\n",
       "      <td>4.009</td>\n",
       "      <td>3.0</td>\n",
       "      <td>2.0</td>\n",
       "      <td>4.0</td>\n",
       "      <td>0.3400</td>\n",
       "      <td>1.0</td>\n",
       "    </tr>\n",
       "    <tr>\n",
       "      <th>4</th>\n",
       "      <td>1809000</td>\n",
       "      <td>11518</td>\n",
       "      <td>CreditCardTake-up</td>\n",
       "      <td>0.0</td>\n",
       "      <td>0.0</td>\n",
       "      <td>23.0</td>\n",
       "      <td>23.0</td>\n",
       "      <td>23.0</td>\n",
       "      <td>0.0</td>\n",
       "      <td>8.0</td>\n",
       "      <td>...</td>\n",
       "      <td>0.0</td>\n",
       "      <td>0.0</td>\n",
       "      <td>0.0</td>\n",
       "      <td>0.0</td>\n",
       "      <td>0.000</td>\n",
       "      <td>0.0</td>\n",
       "      <td>0.0</td>\n",
       "      <td>0.0</td>\n",
       "      <td>0.0000</td>\n",
       "      <td>0.0</td>\n",
       "    </tr>\n",
       "    <tr>\n",
       "      <th>5</th>\n",
       "      <td>1518005</td>\n",
       "      <td>11518</td>\n",
       "      <td>VirtualCardTake-up</td>\n",
       "      <td>0.0</td>\n",
       "      <td>0.0</td>\n",
       "      <td>2.0</td>\n",
       "      <td>1.0</td>\n",
       "      <td>1.0</td>\n",
       "      <td>0.0</td>\n",
       "      <td>23.0</td>\n",
       "      <td>...</td>\n",
       "      <td>0.0</td>\n",
       "      <td>0.0</td>\n",
       "      <td>7.0</td>\n",
       "      <td>-194.0</td>\n",
       "      <td>-99.000</td>\n",
       "      <td>0.0</td>\n",
       "      <td>0.0</td>\n",
       "      <td>0.0</td>\n",
       "      <td>0.0000</td>\n",
       "      <td>0.0</td>\n",
       "    </tr>\n",
       "  </tbody>\n",
       "</table>\n",
       "<p>5 rows × 79 columns</p>\n",
       "</div>"
      ],
      "text/plain": [
       "   ClientIdentifier  Behaviour_Date_Key       BehaviourType  TAB1  TAB5  TAB7  \\\n",
       "1            320818               11518   CreditCardTake-up   0.0   0.0  12.0   \n",
       "2            302372               11518   CreditCardTake-up   0.0   0.0   2.0   \n",
       "3           1027545               11518   CreditCardTake-up   0.0   0.0   3.0   \n",
       "4           1809000               11518   CreditCardTake-up   0.0   0.0  23.0   \n",
       "5           1518005               11518  VirtualCardTake-up   0.0   0.0   2.0   \n",
       "\n",
       "   TAB8  TAB9  TAB10  Total_Num_Inflow_L3M  ...  Num_Elec  Amt_Elec  \\\n",
       "1   9.0   8.0    0.0                  10.0  ...       0.0       0.0   \n",
       "2   2.0   2.0    0.0                  16.0  ...       0.0       0.0   \n",
       "3   2.0   1.0    0.0                  20.0  ...       0.0       0.0   \n",
       "4  23.0  23.0    0.0                   8.0  ...       0.0       0.0   \n",
       "5   1.0   1.0    0.0                  23.0  ...       0.0       0.0   \n",
       "\n",
       "   Num_Airtime  Amt_Airtime     CW1  CS1  CS2  CS3     CS4  InsufFunds  \n",
       "1          0.0          0.0   0.000  0.0  0.0  0.0  0.0000         0.0  \n",
       "2          0.0          0.0 -99.000  3.0  3.0  3.0  0.8275         0.0  \n",
       "3          1.0        -50.0   4.009  3.0  2.0  4.0  0.3400         1.0  \n",
       "4          0.0          0.0   0.000  0.0  0.0  0.0  0.0000         0.0  \n",
       "5          7.0       -194.0 -99.000  0.0  0.0  0.0  0.0000         0.0  \n",
       "\n",
       "[5 rows x 79 columns]"
      ]
     },
     "execution_count": 297,
     "metadata": {},
     "output_type": "execute_result"
    }
   ],
   "source": [
    "#Reads Data and does some basic cleaning\n",
    "df = pd.read_csv('./ClientBehaviourTraining.txt', sep='|')\n",
    "df = df.drop(['Instalment_Amt_All', 'Current_Balance_All'], axis = 1)\n",
    "df = df.dropna()\n",
    "\n",
    "#Q1 = df.quantile(0.05)\n",
    "#Q3 = df.quantile(0.95)\n",
    "#IQR = Q3 - Q1\n",
    "\n",
    "#df = df[~((df < (Q1 - 1.5 * IQR)) |(df > (Q3 + 1.5 * IQR))).any(axis=1)]\n",
    "\n",
    "#for index in range(9,81):\n",
    "#    normalized_df=(df-df.mean())/df.std()\n",
    "    \n",
    "\n",
    "df.head()\n"
   ]
  },
  {
   "cell_type": "code",
   "execution_count": 5,
   "id": "fc5f67be-8ba8-41c8-855d-64efb687b18f",
   "metadata": {},
   "outputs": [
    {
     "data": {
      "text/plain": [
       "238046.94"
      ]
     },
     "execution_count": 5,
     "metadata": {},
     "output_type": "execute_result"
    }
   ],
   "source": [
    "df['Total_Amt_Inflow_L3M'].max()"
   ]
  },
  {
   "cell_type": "code",
   "execution_count": 6,
   "id": "b74df3d2",
   "metadata": {},
   "outputs": [
    {
     "data": {
      "application/vnd.jupyter.widget-view+json": {
       "model_id": "0ad10beeccad4d70b2311a038e0f581e",
       "version_major": 2,
       "version_minor": 0
      },
      "text/plain": [
       "                                             |                                             | [  0%]   00:00 ->…"
      ]
     },
     "metadata": {},
     "output_type": "display_data"
    },
    {
     "name": "stdout",
     "output_type": "stream",
     "text": [
      "Report SWEETVIZ_REPORT.html was generated! NOTEBOOK/COLAB USERS: the web browser MAY not pop up, regardless, the report IS saved in your notebook/colab files.\n"
     ]
    }
   ],
   "source": [
    "#Generates Report\n",
    "my_report = sv.analyze(normalized_df)\n",
    "my_report.show_html()"
   ]
  },
  {
   "cell_type": "code",
   "execution_count": 151,
   "id": "fdf6602f-f760-45b2-a2dd-3802a3c0b09a",
   "metadata": {},
   "outputs": [],
   "source": [
    "def IQR_Rejection(data_frame, column_name):\n",
    "    q1 = data_frame[column_name].quantile(0.25)\n",
    "    q3 = data_frame[column_name].quantile(0.75)\n",
    "    iqr = q3 - q1\n",
    "    fence_low  = q1 - 3*iqr\n",
    "    fence_high = q3 + 3*iqr\n",
    "    df_out = data_frame.loc[(data_frame[column_name] > fence_low) & (data_frame[column_name] < fence_high)]\n",
    "    \n",
    "    return df_out"
   ]
  },
  {
   "cell_type": "code",
   "execution_count": 460,
   "id": "5f0a052a-738b-42b6-ad3c-d7ee711ecee0",
   "metadata": {},
   "outputs": [
    {
     "data": {
      "text/plain": [
       "(375215, 76)"
      ]
     },
     "execution_count": 460,
     "metadata": {},
     "output_type": "execute_result"
    }
   ],
   "source": [
    "#Data cleaning\n",
    "clean = df\n",
    "has_outliers = ['Total_Num_Inflow_L3M', 'Total_Amt_Inflow_L3M', 'Total_Num_Outflow_L3M', 'Total_Amt_Outflow_L3M', 'Num_Elec_In_G1_L3M', 'Num_CW_ATM_Out_G1_L3M', 'Num_POS_Out_G1_L3M']\n",
    "redundant = ['Num_Inflow_G1_L3M','Num_Pmt_In_G1_L3M', 'Num_Prepaid_Out_G1_L3M']#was here\n",
    "binary = ['Num_MoneySend_In_G1_L3M', 'Num_EDO_Out_G1_L3M', 'Num_Loan_Out_G1_L3M', 'Num_SO_Out_G1_L3M']\n",
    "\n",
    "clean = clean.drop(['ClientIdentifier', 'Behaviour_Date_Key', 'ALL_Max_Delq_Ever'], axis = 1)\n",
    "\n",
    "one_hot = pd.get_dummies(clean['Has_Deed'])\n",
    "one_hot = one_hot.drop('N', axis = 1)\n",
    "clean = clean.drop('Has_Deed', axis = 1)\n",
    "clean = clean.join(one_hot)\n",
    "\n",
    "#for (columnName, columnData) in clean.iteritems():\n",
    "#    if (columnData.unique().size > 2) & ((columnData == 0).mean() > 0.3):\n",
    "#        clean[columnName] = np.where(columnData == 0, 0, 1)\n",
    "        \n",
    "\n",
    "\n",
    "#clean = clean.loc[:,~clean.apply(lambda x: x.duplicated(),axis=1).all()].copy()\n",
    "#clean.shape\n",
    "\n",
    "for (columnName, columnData) in clean.iteritems():\n",
    "   if (columnData.unique().size > 2 and columnName != 'BehaviourType'):\n",
    "        clean = IQR_Rejection(clean, col)\n",
    "        #if columnData.min() > 0:\n",
    "            #clean[columnName] = np.log(clean[columnName])\n",
    "        #clean = clean.drop(columnName, axis = 1)\n",
    "clean.shape"
   ]
  },
  {
   "cell_type": "code",
   "execution_count": 110,
   "id": "3eaf5f82-fd53-435f-8bcb-68a36e20e30e",
   "metadata": {},
   "outputs": [
    {
     "data": {
      "application/vnd.jupyter.widget-view+json": {
       "model_id": "ab1a4c321889444a8c14279c7d4644af",
       "version_major": 2,
       "version_minor": 0
      },
      "text/plain": [
       "                                             |                                             | [  0%]   00:00 ->…"
      ]
     },
     "metadata": {},
     "output_type": "display_data"
    },
    {
     "name": "stdout",
     "output_type": "stream",
     "text": [
      "Report SWEETVIZ_REPORT.html was generated! NOTEBOOK/COLAB USERS: the web browser MAY not pop up, regardless, the report IS saved in your notebook/colab files.\n"
     ]
    }
   ],
   "source": [
    "my_report = sv.analyze(clean)\n",
    "my_report.show_html()"
   ]
  },
  {
   "cell_type": "code",
   "execution_count": 376,
   "id": "7a55475a-36f7-4b93-8f01-d3e911c122c2",
   "metadata": {},
   "outputs": [],
   "source": [
    "edf = pd.read_csv('./ClientBehaviourEvaluation.txt', sep='|')\n",
    "edf = edf.drop(['Instalment_Amt_All', 'Current_Balance_All'], axis = 1)\n",
    "edf = edf.dropna()\n"
   ]
  },
  {
   "cell_type": "code",
   "execution_count": 455,
   "id": "3913d905-5ef5-49e5-bc86-332a422d5f99",
   "metadata": {},
   "outputs": [
    {
     "data": {
      "text/plain": [
       "(179192, 76)"
      ]
     },
     "execution_count": 455,
     "metadata": {},
     "output_type": "execute_result"
    }
   ],
   "source": [
    "eclean = edf\n",
    "eclean = eclean.drop(['ClientIdentifier', 'Behaviour_Date_Key', 'ALL_Max_Delq_Ever'], axis = 1)\n",
    "\n",
    "one_hot = pd.get_dummies(eclean['Has_Deed'])\n",
    "one_hot = one_hot.drop('N', axis = 1)\n",
    "eclean = eclean.drop('Has_Deed', axis = 1)\n",
    "eclean = eclean.join(one_hot)\n",
    "\n",
    "#for (columnName, columnData) in eclean.iteritems():\n",
    "#    if (columnData.unique().size > 2) & ((columnData == 0).mean() > 0.3):\n",
    "#        eclean[columnName] = np.where(columnData == 0, 0, 1)\n",
    "    \n",
    "    \n",
    "eclean.shape"
   ]
  },
  {
   "cell_type": "code",
   "execution_count": 378,
   "id": "14c5b3e8-4b64-4229-8f65-3fc77677ac3a",
   "metadata": {},
   "outputs": [
    {
     "data": {
      "text/plain": [
       "(179192, 56)"
      ]
     },
     "execution_count": 378,
     "metadata": {},
     "output_type": "execute_result"
    }
   ],
   "source": [
    "eclean = eclean.loc[:,~eclean.apply(lambda x: x.duplicated(),axis=1).all()].copy()\n",
    "eclean.shape"
   ]
  },
  {
   "cell_type": "code",
   "execution_count": 462,
   "id": "fa81a9c0-7933-48d3-909a-61c733bb13a6",
   "metadata": {},
   "outputs": [
    {
     "name": "stdout",
     "output_type": "stream",
     "text": [
      "0.7786489615709199\n",
      "0.9705263157894737\n"
     ]
    }
   ],
   "source": [
    "behavname = 'CreditCard' #Enter behaviour name here\n",
    "\n",
    "behav = behavname + 'Take-upOOT'\n",
    "nobehav = behavname + 'NoTake-upOOT'\n",
    "eappdf = eclean[eclean['BehaviourType'] == behav]\n",
    "nodf = eclean[eclean['BehaviourType'] == nobehav]\n",
    "eappdf = pd.concat([eappdf, nodf])\n",
    "    \n",
    "one_hot = pd.get_dummies(eappdf['BehaviourType'])\n",
    "one_hot = one_hot.drop(nobehav, axis = 1)\n",
    "eappdf = eappdf.drop('BehaviourType', axis = 1)\n",
    "eappdf = eappdf.join(one_hot)\n",
    "\n",
    "eX = eappdf.drop(behav, axis = 1).to_numpy()\n",
    "ey = eappdf[behav].to_numpy()\n",
    "\n",
    "scaler = preprocessing.StandardScaler().fit(eX)\n",
    "eX = scaler.transform(eX)\n",
    "\n",
    "print(balanced_accuracy_score(ey, clf.predict(eX)))\n",
    "print(recall_score(ey, clf.predict(eX)))"
   ]
  },
  {
   "cell_type": "code",
   "execution_count": 459,
   "id": "7d69f091-095e-4487-add6-196e50ea1032",
   "metadata": {},
   "outputs": [
    {
     "name": "stdout",
     "output_type": "stream",
     "text": [
      "0.7799450425045797\n",
      "0.6326315789473684\n"
     ]
    }
   ],
   "source": [
    "probs = clf.predict_proba(eX)[:,1]\n",
    "corr = ey.mean()\n",
    "bal = y.mean()\n",
    "term = (corr/bal)*probs\n",
    "truprobs = term / (term + ((1-corr)/(1-bal))*(1-probs))\n",
    "classi = np.round(truprobs)\n",
    "print(balanced_accuracy_score(ey, classi))\n",
    "print(recall_score(ey, classi))"
   ]
  },
  {
   "cell_type": "code",
   "execution_count": 428,
   "id": "106500e6-3e18-4e91-b0a5-f0ee0e9ee4b5",
   "metadata": {},
   "outputs": [
    {
     "data": {
      "text/plain": [
       "0.04438008035130337"
      ]
     },
     "execution_count": 428,
     "metadata": {},
     "output_type": "execute_result"
    }
   ],
   "source": [
    "ey.mean()"
   ]
  },
  {
   "cell_type": "code",
   "execution_count": 461,
   "id": "6a398cc9-dd3e-4b05-86d4-0cd33ff29a5a",
   "metadata": {},
   "outputs": [
    {
     "name": "stdout",
     "output_type": "stream",
     "text": [
      "0.8265060849366258\n",
      "0.9705263157894737\n"
     ]
    }
   ],
   "source": [
    "#Generates correlation coefficients to specific behaviour\n",
    "behavname = 'CreditCard' #Enter behaviour name here\n",
    "behav = behavname + 'Take-up'\n",
    "nobehav = behavname + 'NoTake-up'\n",
    "appdf = clean[clean['BehaviourType'] == behav]#.sample(frac=ey.mean())\n",
    "nodf = clean[clean['BehaviourType'] == nobehav]\n",
    "appdf = pd.concat([appdf,nodf])\n",
    "\n",
    "one_hot = pd.get_dummies(appdf['BehaviourType'])\n",
    "one_hot = one_hot.drop(nobehav, axis = 1)\n",
    "appdf = appdf.drop('BehaviourType', axis = 1)\n",
    "appdf = appdf.join(one_hot)\n",
    "\n",
    "\n",
    "from sklearn.model_selection import train_test_split\n",
    "from sklearn import preprocessing\n",
    "from scipy import stats\n",
    "\n",
    "\n",
    "train, test = train_test_split(appdf, test_size=0.2)\n",
    "\n",
    "X = train.drop(behav, axis = 1).to_numpy()\n",
    "y = train[behav].to_numpy()\n",
    "\n",
    "tX = test.drop(behav, axis = 1).to_numpy()\n",
    "ty = test[behav].to_numpy()\n",
    "\n",
    "scaler = preprocessing.StandardScaler().fit(X)\n",
    "#X = preprocessing.normalize(X, norm='l1')\n",
    "#tX = preprocessing.normalize(tX, norm='l1')\n",
    "X = scaler.transform(X)\n",
    "tX = scaler.transform(tX)\n",
    "\n",
    "from sklearn.linear_model import LogisticRegression\n",
    "clf = LogisticRegression(max_iter=10000, class_weight = 'balanced', solver='saga').fit(X, y)\n",
    "print(balanced_accuracy_score(ty, clf.predict(tX)))\n",
    "print(recall_score(ey, clf.predict(eX)))"
   ]
  },
  {
   "cell_type": "code",
   "execution_count": 441,
   "id": "8e19e60e-1ddc-4421-8865-b60d4f4537ed",
   "metadata": {},
   "outputs": [
    {
     "data": {
      "text/plain": [
       "(21127, 56)"
      ]
     },
     "execution_count": 441,
     "metadata": {},
     "output_type": "execute_result"
    }
   ],
   "source": [
    "appdf.shape"
   ]
  },
  {
   "cell_type": "code",
   "execution_count": 421,
   "id": "a462e1f3-6323-46e4-99cf-1a276fe4fad5",
   "metadata": {},
   "outputs": [
    {
     "name": "stdout",
     "output_type": "stream",
     "text": [
      "0.8344959444284421\n"
     ]
    }
   ],
   "source": [
    "from sklearn.neighbors import KNeighborsClassifier\n",
    "KNeighborsClassifier(n_neighbors=11)\n",
    "clf = clf.fit(X, y)\n",
    "print(balanced_accuracy_score(ty, clf.predict(tX)))"
   ]
  },
  {
   "cell_type": "code",
   "execution_count": 409,
   "id": "a9aaa288-5782-4deb-b8b8-1c9fe55a16ea",
   "metadata": {},
   "outputs": [
    {
     "name": "stdout",
     "output_type": "stream",
     "text": [
      "0.7442365649856402\n"
     ]
    }
   ],
   "source": [
    "\n"
   ]
  },
  {
   "cell_type": "code",
   "execution_count": 369,
   "id": "e5545a29-ff7a-4087-8bbd-90e9e119ae8b",
   "metadata": {},
   "outputs": [
    {
     "data": {
      "text/plain": [
       "(0.9213456526889363, 0.05155155155155155, 0.8933333333333333)"
      ]
     },
     "execution_count": 369,
     "metadata": {},
     "output_type": "execute_result"
    }
   ],
   "source": [
    "from sklearn.neural_network import MLPClassifier\n",
    "clf = MLPClassifier(activation = 'relu', solver='adam', hidden_layer_sizes=(100), random_state=1, max_iter=10000)\n",
    "clf = clf.fit(X, y)\n",
    "a = (clf.predict(tX) == ty).mean()\n",
    "false_pos = np.sum((clf.predict(tX) == 1) & (ty == 0))\n",
    "b = false_neg / np.sum(ty == 0)\n",
    "false_neg = np.sum((clf.predict(tX) == 0) & (ty == 1))\n",
    "c = false_neg / np.sum(ty == 1)\n",
    "(a, b, c)"
   ]
  },
  {
   "cell_type": "code",
   "execution_count": null,
   "id": "7e114d56-1cf9-4c3f-9930-b9ddfa97580d",
   "metadata": {},
   "outputs": [],
   "source": [
    "from sklearn.metrics import balanced_accuracy_score\n",
    "balanced_accuracy_score(ty, clf.predict(tX))"
   ]
  },
  {
   "cell_type": "code",
   "execution_count": null,
   "id": "7010faf7-fe7c-4629-85bf-ee5ecfab74a8",
   "metadata": {},
   "outputs": [],
   "source": [
    "from sklearn.linear_model import LogisticRegression\n",
    "clf = LogisticRegression(max_iter=10000, class_weight={0.95,0.05}).fit(X, y)\n",
    "a = (clf.predict(tX) == ty).mean()\n",
    "false_neg = np.sum((clf.predict(tX) == 0) & (ty == 1))\n",
    "b = false_neg / np.sum(ey == 1)\n",
    "(a, b)"
   ]
  }
 ],
 "metadata": {
  "kernelspec": {
   "display_name": "Python 3 (ipykernel)",
   "language": "python",
   "name": "python3"
  },
  "language_info": {
   "codemirror_mode": {
    "name": "ipython",
    "version": 3
   },
   "file_extension": ".py",
   "mimetype": "text/x-python",
   "name": "python",
   "nbconvert_exporter": "python",
   "pygments_lexer": "ipython3",
   "version": "3.9.13"
  }
 },
 "nbformat": 4,
 "nbformat_minor": 5
}
